{
 "cells": [
  {
   "cell_type": "code",
   "execution_count": 3,
   "metadata": {},
   "outputs": [
    {
     "ename": "ModuleNotFoundError",
     "evalue": "No module named 'US_Visa_Approval'",
     "output_type": "error",
     "traceback": [
      "\u001b[1;31m---------------------------------------------------------------------------\u001b[0m",
      "\u001b[1;31mModuleNotFoundError\u001b[0m                       Traceback (most recent call last)",
      "Cell \u001b[1;32mIn[3], line 7\u001b[0m\n\u001b[0;32m      4\u001b[0m \u001b[38;5;28;01mfrom\u001b[39;00m \u001b[38;5;21;01mevidently\u001b[39;00m\u001b[38;5;21;01m.\u001b[39;00m\u001b[38;5;21;01mmodel_profile\u001b[39;00m \u001b[38;5;28;01mimport\u001b[39;00m Profile\n\u001b[0;32m      5\u001b[0m \u001b[38;5;28;01mfrom\u001b[39;00m \u001b[38;5;21;01mevidently\u001b[39;00m\u001b[38;5;21;01m.\u001b[39;00m\u001b[38;5;21;01mprofile_sections\u001b[39;00m \u001b[38;5;28;01mimport\u001b[39;00m DataDriftProfileSection\n\u001b[1;32m----> 7\u001b[0m \u001b[38;5;28;01mfrom\u001b[39;00m \u001b[38;5;21;01mUS_Visa_Approval\u001b[39;00m\u001b[38;5;21;01m.\u001b[39;00m\u001b[38;5;21;01mdata_access\u001b[39;00m\u001b[38;5;21;01m.\u001b[39;00m\u001b[38;5;21;01mus_visa_data\u001b[39;00m \u001b[38;5;28;01mimport\u001b[39;00m USvisaData\n",
      "\u001b[1;31mModuleNotFoundError\u001b[0m: No module named 'US_Visa_Approval'"
     ]
    }
   ],
   "source": [
    "import pandas as pd\n",
    "from evidently.dashboard import Dashboard\n",
    "from evidently.tabs import DataDriftTab, CatTargetDriftTab\n",
    "from evidently.model_profile import Profile\n",
    "from evidently.profile_sections import DataDriftProfileSection\n",
    "\n",
    "from US_Visa_Approval.data_access.us_visa_data import USvisaData"
   ]
  },
  {
   "cell_type": "markdown",
   "metadata": {},
   "source": [
    "## Load Dataset"
   ]
  },
  {
   "cell_type": "code",
   "execution_count": null,
   "metadata": {},
   "outputs": [],
   "source": [
    "df = "
   ]
  }
 ],
 "metadata": {
  "kernelspec": {
   "display_name": ".usvisaenv",
   "language": "python",
   "name": "python3"
  },
  "language_info": {
   "codemirror_mode": {
    "name": "ipython",
    "version": 3
   },
   "file_extension": ".py",
   "mimetype": "text/x-python",
   "name": "python",
   "nbconvert_exporter": "python",
   "pygments_lexer": "ipython3",
   "version": "3.12.2"
  }
 },
 "nbformat": 4,
 "nbformat_minor": 2
}
